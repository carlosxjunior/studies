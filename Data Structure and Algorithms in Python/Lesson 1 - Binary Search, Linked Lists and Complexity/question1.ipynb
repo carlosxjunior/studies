{
 "cells": [
  {
   "cell_type": "markdown",
   "metadata": {},
   "source": [
    "## Problem \n",
    "\n",
    "This course takes a coding-focused approach towards learning. In each notebook, we'll focus on solving one problem, and learn the techniques, algorithms, and data structures to devise an *efficient* solution. We will then generalize the technique and apply it to other problems.\n",
    "\n",
    "\n",
    "\n",
    "In this notebook, we focus on solving the following problem:\n",
    "\n",
    "> **QUESTION 1:** Alice has some cards with numbers written on them. She arranges the cards in decreasing order, and lays them out face down in a sequence on a table. She challenges Bob to pick out the card containing a given number by turning over as few cards as possible. Write a function to help Bob locate the card.\n",
    "\n",
    "<img src=\"https://i.imgur.com/mazym6s.png\" width=\"480\">\n",
    "\n",
    "This may seem like a simple problem, especially if you're familiar with the concept of _binary search_, but the strategy and technique we learning here will be widely applicable, and we'll soon use it to solve harder problems."
   ]
  },
  {
   "cell_type": "markdown",
   "metadata": {},
   "source": [
    "## My solution"
   ]
  },
  {
   "cell_type": "markdown",
   "metadata": {},
   "source": [
    "So what I'm thinking is we should always start by looking at the element in the middle of the collection, which in this case will be a list. \n",
    "\n",
    "Then after a pick, we analyze if the number we got is greater or less then the given one and repeat the process until we can find it."
   ]
  },
  {
   "cell_type": "markdown",
   "metadata": {},
   "source": [
    "**Inputs**\n",
    "- list of cards\n",
    "- number to be found, named _x_\n",
    "\n",
    "**Outputs**\n",
    "- the number found\n",
    "- amount of cards revealed until the number was found\n",
    "\n",
    "**Solution**\n",
    "1) Define a variable to store the numer of cards revealed until we get to x, named _count_.\n",
    "2) Find the middle position (index) in the list and the corresponding value, named _x_.\n",
    "3) Check if x is equal to n. If so, return count. If not, check if x is greater than n. If so, define a new list as the current list split from n until the end, not including n. If not, define a new list as the current list split from its start until n, excluding n.\n",
    "4) Repeat steps 2 and 3 until n = x."
   ]
  },
  {
   "cell_type": "code",
   "execution_count": 54,
   "metadata": {},
   "outputs": [],
   "source": [
    "def split_list(a_list: list, index: int, forward: bool):\n",
    "    if forward:\n",
    "        return a_list[:index]\n",
    "    else:\n",
    "        return a_list[index+1:] # here we use index+1 as python would include a_list[index] in the new list and we don't want that\n",
    "\n",
    "def get_middle_element(a_list: list):\n",
    "    full_length = len(a_list)\n",
    "    index_middle = int(full_length/2) - 1 # subtract 1 as python arrays are 0-indexed\n",
    "    middle_element = a_list[index_middle]\n",
    "    return index_middle, middle_element"
   ]
  },
  {
   "cell_type": "code",
   "execution_count": 59,
   "metadata": {},
   "outputs": [],
   "source": [
    "def find_given_card(cards: list, number: int):\n",
    "    \n",
    "    full_length = len(cards)\n",
    "    index_middle, current_card = get_middle_element(cards)\n",
    "    print(f\"There are {full_length} cards in total.\\nOur starting point is [{current_card}] at position {index_middle}.\\nLet's get to card [{number}].\\n\")\n",
    "    cards_revealed = 1\n",
    "    cards_left = cards\n",
    "\n",
    "\n",
    "    while True:\n",
    "        check_eq = number == current_card\n",
    "        check_gt = number > current_card\n",
    "        if check_eq:\n",
    "            if cards_revealed == 1:\n",
    "                print(f\"Card [{current_card}] has been found right away!\")\n",
    "            else:\n",
    "                print(f\"Card [{current_card}] has been found after {cards_revealed} tries!\")\n",
    "            break\n",
    "        else:\n",
    "            cards_left = split_list(cards_left, index_middle, check_gt)\n",
    "            index_middle, current_card = get_middle_element(cards_left)\n",
    "            print(f\"New card revealed: [{current_card}]\")\n",
    "            cards_revealed += 1\n",
    "    \n",
    "    return current_card, cards_revealed"
   ]
  },
  {
   "cell_type": "code",
   "execution_count": 60,
   "metadata": {},
   "outputs": [],
   "source": [
    "import random"
   ]
  },
  {
   "cell_type": "code",
   "execution_count": 61,
   "metadata": {},
   "outputs": [
    {
     "name": "stdout",
     "output_type": "stream",
     "text": [
      "Find card [293] in [480, 478, 450, 445, 421, 417, 402, 369, 342, 325, 293, 268, 228, 225, 193, 150, 135, 106, 82, 2]\n"
     ]
    }
   ],
   "source": [
    "input_numbers = range(0, 500)\n",
    "cards = random.sample(input_numbers, 20)\n",
    "cards.sort(reverse=True)\n",
    "card = random.choice(cards)\n",
    "print(f\"Find card [{card}] in {cards}\")"
   ]
  },
  {
   "cell_type": "code",
   "execution_count": 63,
   "metadata": {},
   "outputs": [
    {
     "name": "stdout",
     "output_type": "stream",
     "text": [
      "There are 20 cards in total.\n",
      "Our starting point is [325] at position 9.\n",
      "Let's get to card [293].\n",
      "\n",
      "New card revealed: [193]\n",
      "New card revealed: [268]\n",
      "New card revealed: [293]\n",
      "Card [293] has been found after 4 tries!\n"
     ]
    }
   ],
   "source": [
    "result, tries = find_given_card(cards, card)"
   ]
  },
  {
   "cell_type": "code",
   "execution_count": 64,
   "metadata": {},
   "outputs": [
    {
     "data": {
      "text/plain": [
       "True"
      ]
     },
     "execution_count": 64,
     "metadata": {},
     "output_type": "execute_result"
    }
   ],
   "source": [
    "result == card"
   ]
  },
  {
   "cell_type": "markdown",
   "metadata": {},
   "source": [
    "## My solution - after review"
   ]
  }
 ],
 "metadata": {
  "kernelspec": {
   "display_name": "Python 3",
   "language": "python",
   "name": "python3"
  },
  "language_info": {
   "codemirror_mode": {
    "name": "ipython",
    "version": 3
   },
   "file_extension": ".py",
   "mimetype": "text/x-python",
   "name": "python",
   "nbconvert_exporter": "python",
   "pygments_lexer": "ipython3",
   "version": "3.11.9"
  }
 },
 "nbformat": 4,
 "nbformat_minor": 2
}
