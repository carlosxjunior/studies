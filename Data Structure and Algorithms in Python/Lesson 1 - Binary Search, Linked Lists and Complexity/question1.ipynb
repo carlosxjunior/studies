{
 "cells": [
  {
   "cell_type": "markdown",
   "metadata": {},
   "source": [
    "## Problem \n",
    "\n",
    "This course takes a coding-focused approach towards learning. In each notebook, we'll focus on solving one problem, and learn the techniques, algorithms, and data structures to devise an *efficient* solution. We will then generalize the technique and apply it to other problems.\n",
    "\n",
    "\n",
    "\n",
    "In this notebook, we focus on solving the following problem:\n",
    "\n",
    "> **QUESTION 1:** Alice has some cards with numbers written on them. She arranges the cards in decreasing order, and lays them out face down in a sequence on a table. She challenges Bob to pick out the card containing a given number by turning over as few cards as possible. Write a function to help Bob locate the card.\n",
    "\n",
    "<img src=\"https://i.imgur.com/mazym6s.png\" width=\"480\">\n",
    "\n",
    "This may seem like a simple problem, especially if you're familiar with the concept of _binary search_, but the strategy and technique we learning here will be widely applicable, and we'll soon use it to solve harder problems."
   ]
  },
  {
   "cell_type": "markdown",
   "metadata": {},
   "source": [
    "## My solution"
   ]
  },
  {
   "cell_type": "markdown",
   "metadata": {},
   "source": [
    "So what I'm thinking is we should always start by looking at the element in the middle of the collection, which in this case will be a list. \n",
    "\n",
    "Then after a pick, we analyze if the number we got is greater or less then the given one and repeat the process until we can find it."
   ]
  },
  {
   "cell_type": "markdown",
   "metadata": {},
   "source": [
    "**Inputs**\n",
    "- list of cards\n",
    "- number to be found, named _x_\n",
    "\n",
    "**Outputs**\n",
    "- the number found\n",
    "- amount of cards revealed until the number was found\n",
    "\n",
    "**Solution**\n",
    "1) Define a variable to store the number of cards revealed until we get to x, named _count_.\n",
    "2) Find the middle position (index) in the list and the corresponding value, named _x_.\n",
    "3) Check if x is equal to n. If so, return count. If not, check if x is greater than n. If so, define a new list as the current list split from n until the end, not including n. If not, define a new list as the current list split from its start until n, excluding n.\n",
    "4) Repeat steps 2 and 3 until n = x."
   ]
  },
  {
   "cell_type": "code",
   "execution_count": 2,
   "metadata": {},
   "outputs": [],
   "source": [
    "def split_list(a_list: list, index: int, forward: bool):\n",
    "    if forward:\n",
    "        return a_list[:index]\n",
    "    else:\n",
    "        return a_list[index+1:] # here we use index+1 as python would include a_list[index] in the new list and we don't want that\n",
    "\n",
    "def get_middle_element(a_list: list):\n",
    "    full_length = len(a_list)\n",
    "    index_middle = int(full_length/2) - 1 # subtract 1 as python arrays are 0-indexed\n",
    "    middle_element = a_list[index_middle]\n",
    "    return index_middle, middle_element"
   ]
  },
  {
   "cell_type": "code",
   "execution_count": 3,
   "metadata": {},
   "outputs": [],
   "source": [
    "def find_given_card(cards: list, number: int):\n",
    "    \n",
    "    full_length = len(cards)\n",
    "    index_middle, current_card = get_middle_element(cards)\n",
    "    print(f\"There are {full_length} cards in total.\\nOur starting point is [{current_card}] at position {index_middle}.\\nLet's get to card [{number}].\\n\")\n",
    "    cards_revealed = 1\n",
    "    cards_left = cards\n",
    "\n",
    "\n",
    "    while True:\n",
    "        check_eq = number == current_card\n",
    "        check_gt = number > current_card\n",
    "        if check_eq:\n",
    "            if cards_revealed == 1:\n",
    "                print(f\"Card [{current_card}] has been found right away!\")\n",
    "            else:\n",
    "                print(f\"Card [{current_card}] has been found after {cards_revealed} tries!\")\n",
    "            break\n",
    "        else:\n",
    "            cards_left = split_list(cards_left, index_middle, check_gt)\n",
    "            index_middle, current_card = get_middle_element(cards_left)\n",
    "            print(f\"New card revealed: [{current_card}]\")\n",
    "            cards_revealed += 1\n",
    "    \n",
    "    return current_card, cards_revealed"
   ]
  },
  {
   "cell_type": "code",
   "execution_count": 4,
   "metadata": {},
   "outputs": [],
   "source": [
    "import random"
   ]
  },
  {
   "cell_type": "code",
   "execution_count": 5,
   "metadata": {},
   "outputs": [
    {
     "name": "stdout",
     "output_type": "stream",
     "text": [
      "Find card [85] in [499, 487, 473, 429, 354, 330, 316, 268, 204, 169, 167, 127, 118, 101, 88, 85, 72, 39, 22, 6]\n"
     ]
    }
   ],
   "source": [
    "input_numbers = range(0, 500)\n",
    "cards = random.sample(input_numbers, 20)\n",
    "cards.sort(reverse=True)\n",
    "card = random.choice(cards)\n",
    "print(f\"Find card [{card}] in {cards}\")"
   ]
  },
  {
   "cell_type": "code",
   "execution_count": 6,
   "metadata": {},
   "outputs": [
    {
     "name": "stdout",
     "output_type": "stream",
     "text": [
      "There are 20 cards in total.\n",
      "Our starting point is [169] at position 9.\n",
      "Let's get to card [85].\n",
      "\n",
      "New card revealed: [88]\n",
      "New card revealed: [72]\n",
      "New card revealed: [85]\n",
      "Card [85] has been found after 4 tries!\n"
     ]
    }
   ],
   "source": [
    "result, tries = find_given_card(cards, card)"
   ]
  },
  {
   "cell_type": "code",
   "execution_count": 7,
   "metadata": {},
   "outputs": [
    {
     "data": {
      "text/plain": [
       "True"
      ]
     },
     "execution_count": 7,
     "metadata": {},
     "output_type": "execute_result"
    }
   ],
   "source": [
    "result == card"
   ]
  },
  {
   "cell_type": "markdown",
   "metadata": {},
   "source": [
    "## My solution - after review"
   ]
  },
  {
   "cell_type": "markdown",
   "metadata": {},
   "source": [
    "So a few problems that I have identified in my solution after watching the lesson are:\n",
    "1) I went with what I thought was the best solution right away. Instead, what I could've done was to implement a simpler solution, so called 'brute force' solution and then went to try a better one.\n",
    "\n",
    "\"Our first goal should always be to come up with a _correct_ solution to the problem, which may not necessarily be the _most efficient_ solution\"\n",
    "\n",
    "2) I didn't come up with example inputs and outputs, I've only tested it with a few different values. I also didn't create real test cases.\n",
    "3) I didn't think of variations or edge cases, like the list `cards` being empty or the number `card` occuring more than once in the list."
   ]
  },
  {
   "cell_type": "code",
   "execution_count": null,
   "metadata": {},
   "outputs": [],
   "source": [
    "from jovian.pythondsa import evaluate_test_cases"
   ]
  },
  {
   "cell_type": "code",
   "execution_count": 9,
   "metadata": {},
   "outputs": [],
   "source": [
    "tests = []"
   ]
  },
  {
   "cell_type": "code",
   "execution_count": 10,
   "metadata": {},
   "outputs": [],
   "source": [
    "# card is in the middle\n",
    "tests.append({\n",
    "    'input': { \n",
    "        'cards': [13, 11, 10, 7, 4, 3, 1, 0], \n",
    "        'card': 7\n",
    "    },\n",
    "    'output': 3\n",
    "})"
   ]
  },
  {
   "cell_type": "code",
   "execution_count": 11,
   "metadata": {},
   "outputs": [],
   "source": [
    "# normal test, card is at a random position\n",
    "tests.append({\n",
    "    'input': {\n",
    "        'cards': [13, 11, 10, 7, 4, 3, 1, 0],\n",
    "        'card': 1\n",
    "    },\n",
    "    'output': 6\n",
    "})"
   ]
  },
  {
   "cell_type": "code",
   "execution_count": 12,
   "metadata": {},
   "outputs": [],
   "source": [
    "# card is the first element\n",
    "tests.append({\n",
    "    'input': {\n",
    "        'cards': [4, 2, 1, -1],\n",
    "        'card': 4\n",
    "    },\n",
    "    'output': 0\n",
    "})"
   ]
  },
  {
   "cell_type": "code",
   "execution_count": 13,
   "metadata": {},
   "outputs": [],
   "source": [
    "# card is the last element\n",
    "tests.append({\n",
    "    'input': {\n",
    "        'cards': [3, -1, -9, -127],\n",
    "        'card': -127\n",
    "    },\n",
    "    'output': 3\n",
    "})"
   ]
  },
  {
   "cell_type": "code",
   "execution_count": 14,
   "metadata": {},
   "outputs": [],
   "source": [
    "# cards contains just one element, card\n",
    "tests.append({\n",
    "    'input': {\n",
    "        'cards': [6],\n",
    "        'card': 6\n",
    "    },\n",
    "    'output': 0 \n",
    "})"
   ]
  },
  {
   "cell_type": "code",
   "execution_count": 15,
   "metadata": {},
   "outputs": [],
   "source": [
    "# cards does not contain card \n",
    "tests.append({\n",
    "    'input': {\n",
    "        'cards': [9, 7, 5, 2, -9],\n",
    "        'card': 4\n",
    "    },\n",
    "    'output': -1\n",
    "})"
   ]
  },
  {
   "cell_type": "code",
   "execution_count": 16,
   "metadata": {},
   "outputs": [],
   "source": [
    "# cards is empty\n",
    "tests.append({\n",
    "    'input': {\n",
    "        'cards': [],\n",
    "        'card': 7\n",
    "    },\n",
    "    'output': -1\n",
    "})"
   ]
  },
  {
   "cell_type": "code",
   "execution_count": 17,
   "metadata": {},
   "outputs": [],
   "source": [
    "# numbers can repeat in cards\n",
    "tests.append({\n",
    "    'input': {\n",
    "        'cards': [8, 8, 6, 6, 6, 6, 6, 3, 2, 2, 2, 0, 0, 0],\n",
    "        'card': 3\n",
    "    },\n",
    "    'output': 7\n",
    "})"
   ]
  },
  {
   "cell_type": "code",
   "execution_count": 18,
   "metadata": {},
   "outputs": [],
   "source": [
    "# card occurs multiple times\n",
    "tests.append({\n",
    "    'input': {\n",
    "        'cards': [8, 8, 6, 6, 6, 6, 6, 6, 3, 2, 2, 2, 0, 0, 0],\n",
    "        'card': 6\n",
    "    },\n",
    "    'output': 2\n",
    "})"
   ]
  },
  {
   "cell_type": "markdown",
   "metadata": {},
   "source": [
    "## Brute force solution"
   ]
  },
  {
   "cell_type": "code",
   "execution_count": 27,
   "metadata": {},
   "outputs": [],
   "source": [
    "def find_given_card_brute(cards, card):\n",
    "    index = 0\n",
    "    while index < len(cards):\n",
    "        if cards[index] == card:\n",
    "            return index\n",
    "        index += 1\n",
    "    # Return -1 for cases where the card is present in cards or cards is an empty list\n",
    "    return -1"
   ]
  },
  {
   "cell_type": "code",
   "execution_count": 29,
   "metadata": {},
   "outputs": [
    {
     "name": "stdout",
     "output_type": "stream",
     "text": [
      "\n",
      "\u001b[1mTEST CASE #0\u001b[0m\n",
      "\n",
      "Input:\n",
      "{'cards': [13, 11, 10, 7, 4, 3, 1, 0], 'card': 7}\n",
      "\n",
      "Expected Output:\n",
      "3\n",
      "\n",
      "\n",
      "Actual Output:\n",
      "3\n",
      "\n",
      "Execution Time:\n",
      "0.003 ms\n",
      "\n",
      "Test Result:\n",
      "\u001b[92mPASSED\u001b[0m\n",
      "\n",
      "\n",
      "\u001b[1mTEST CASE #1\u001b[0m\n",
      "\n",
      "Input:\n",
      "{'cards': [13, 11, 10, 7, 4, 3, 1, 0], 'card': 1}\n",
      "\n",
      "Expected Output:\n",
      "6\n",
      "\n",
      "\n",
      "Actual Output:\n",
      "6\n",
      "\n",
      "Execution Time:\n",
      "0.002 ms\n",
      "\n",
      "Test Result:\n",
      "\u001b[92mPASSED\u001b[0m\n",
      "\n",
      "\n",
      "\u001b[1mTEST CASE #2\u001b[0m\n",
      "\n",
      "Input:\n",
      "{'cards': [4, 2, 1, -1], 'card': 4}\n",
      "\n",
      "Expected Output:\n",
      "0\n",
      "\n",
      "\n",
      "Actual Output:\n",
      "0\n",
      "\n",
      "Execution Time:\n",
      "0.001 ms\n",
      "\n",
      "Test Result:\n",
      "\u001b[92mPASSED\u001b[0m\n",
      "\n",
      "\n",
      "\u001b[1mTEST CASE #3\u001b[0m\n",
      "\n",
      "Input:\n",
      "{'cards': [3, -1, -9, -127], 'card': -127}\n",
      "\n",
      "Expected Output:\n",
      "3\n",
      "\n",
      "\n",
      "Actual Output:\n",
      "3\n",
      "\n",
      "Execution Time:\n",
      "0.002 ms\n",
      "\n",
      "Test Result:\n",
      "\u001b[92mPASSED\u001b[0m\n",
      "\n",
      "\n",
      "\u001b[1mTEST CASE #4\u001b[0m\n",
      "\n",
      "Input:\n",
      "{'cards': [6], 'card': 6}\n",
      "\n",
      "Expected Output:\n",
      "0\n",
      "\n",
      "\n",
      "Actual Output:\n",
      "0\n",
      "\n",
      "Execution Time:\n",
      "0.001 ms\n",
      "\n",
      "Test Result:\n",
      "\u001b[92mPASSED\u001b[0m\n",
      "\n",
      "\n",
      "\u001b[1mTEST CASE #5\u001b[0m\n",
      "\n",
      "Input:\n",
      "{'cards': [9, 7, 5, 2, -9], 'card': 4}\n",
      "\n",
      "Expected Output:\n",
      "-1\n",
      "\n",
      "\n",
      "Actual Output:\n",
      "-1\n",
      "\n",
      "Execution Time:\n",
      "0.002 ms\n",
      "\n",
      "Test Result:\n",
      "\u001b[92mPASSED\u001b[0m\n",
      "\n",
      "\n",
      "\u001b[1mTEST CASE #6\u001b[0m\n",
      "\n",
      "Input:\n",
      "{'cards': [], 'card': 7}\n",
      "\n",
      "Expected Output:\n",
      "-1\n",
      "\n",
      "\n",
      "Actual Output:\n",
      "-1\n",
      "\n",
      "Execution Time:\n",
      "0.001 ms\n",
      "\n",
      "Test Result:\n",
      "\u001b[92mPASSED\u001b[0m\n",
      "\n",
      "\n",
      "\u001b[1mTEST CASE #7\u001b[0m\n",
      "\n",
      "Input:\n",
      "{'cards': [8, 8, 6, 6, 6, 6, 6, 3, 2, 2, 2, 0, 0, 0], 'card': 3}\n",
      "\n",
      "Expected Output:\n",
      "7\n",
      "\n",
      "\n",
      "Actual Output:\n",
      "7\n",
      "\n",
      "Execution Time:\n",
      "0.002 ms\n",
      "\n",
      "Test Result:\n",
      "\u001b[92mPASSED\u001b[0m\n",
      "\n",
      "\n",
      "\u001b[1mTEST CASE #8\u001b[0m\n",
      "\n",
      "Input:\n",
      "{'cards': [8, 8, 6, 6, 6, 6, 6, 6, 3, 2, 2, 2, 0, 0, 0], 'card': 6}\n",
      "\n",
      "Expected Output:\n",
      "2\n",
      "\n",
      "\n",
      "Actual Output:\n",
      "2\n",
      "\n",
      "Execution Time:\n",
      "0.001 ms\n",
      "\n",
      "Test Result:\n",
      "\u001b[92mPASSED\u001b[0m\n",
      "\n",
      "\n",
      "\u001b[1mSUMMARY\u001b[0m\n",
      "\n",
      "TOTAL: 9, \u001b[92mPASSED\u001b[0m: 9, \u001b[91mFAILED\u001b[0m: 0\n"
     ]
    },
    {
     "data": {
      "text/plain": [
       "[(3, True, 0.003),\n",
       " (6, True, 0.002),\n",
       " (0, True, 0.001),\n",
       " (3, True, 0.002),\n",
       " (0, True, 0.001),\n",
       " (-1, True, 0.002),\n",
       " (-1, True, 0.001),\n",
       " (7, True, 0.002),\n",
       " (2, True, 0.001)]"
      ]
     },
     "execution_count": 29,
     "metadata": {},
     "output_type": "execute_result"
    }
   ],
   "source": [
    "evaluate_test_cases(find_given_card, tests)"
   ]
  },
  {
   "cell_type": "markdown",
   "metadata": {},
   "source": [
    "## Better solution"
   ]
  },
  {
   "cell_type": "markdown",
   "metadata": {},
   "source": [
    "We need to include the following in our solution:\n",
    "1) Treat the case for when the list is empty\n",
    "2) Treat the case for when card is not present in cards\n",
    "3) Return the first occurence of the card in case it appears more than once"
   ]
  },
  {
   "cell_type": "code",
   "execution_count": 91,
   "metadata": {},
   "outputs": [],
   "source": [
    "def split_list(a_list: list, index: int, forward: bool):\n",
    "    if forward:\n",
    "        return a_list[:index]\n",
    "    else:\n",
    "        return a_list[index+1:] # here we use index+1 as python would include a_list[index] in the new list and we don't want that\n",
    "\n",
    "def get_middle_element(a_list: list):\n",
    "    full_length = len(a_list)\n",
    "    index_middle = int(full_length/2) - 1 # subtract 1 as python arrays are 0-indexed\n",
    "    middle_element = a_list[index_middle]\n",
    "    return index_middle, middle_element"
   ]
  },
  {
   "cell_type": "code",
   "execution_count": 92,
   "metadata": {},
   "outputs": [],
   "source": [
    "def check_prior_cards(cards, card, index_middle):\n",
    "    # Check the cards to the left of the given card to see if it appears more than once\n",
    "    # Return the first position where card appears\n",
    "    card_index = index_middle\n",
    "    while card_index > 0 and cards[card_index - 1] == card:\n",
    "        card_index = card_index - 1\n",
    "    if card_index != index_middle:\n",
    "        return card_index\n",
    "    else:\n",
    "        return"
   ]
  },
  {
   "cell_type": "code",
   "execution_count": 97,
   "metadata": {},
   "outputs": [],
   "source": [
    "def find_given_card(cards: list, card: int):\n",
    "    \n",
    "    full_length = len(cards)\n",
    "    index_middle, current_card = get_middle_element(cards)\n",
    "    print(f\"There are {full_length} cards in total.\\nOur starting point is [{current_card}] at position {index_middle}.\\nLet's get to card [{card}].\\n\")\n",
    "    cards_revealed = 1\n",
    "    cards_left = cards\n",
    "\n",
    "\n",
    "    while True:\n",
    "        check_eq = card == current_card\n",
    "        check_gt = card > current_card\n",
    "        if check_eq:\n",
    "            card_index = check_prior_cards(cards, card, index_middle)\n",
    "            if card_index is not None:\n",
    "                print(f\"Card [{current_card}] appears first in position {card_index+1}\")\n",
    "            if cards_revealed == 1:\n",
    "                print(f\"Card [{current_card}] has been found right away!\")\n",
    "            else:\n",
    "                print(f\"Card [{current_card}] has been found after {cards_revealed} tries!\")\n",
    "            break\n",
    "        else:\n",
    "            cards_left = split_list(cards_left, index_middle, check_gt)\n",
    "            try:\n",
    "                index_middle, current_card = get_middle_element(cards_left)\n",
    "                print(f\"New card revealed: [{current_card}]\")\n",
    "            except IndexError as e:\n",
    "                print(\"\\nCard is not present in cards!\")\n",
    "                return\n",
    "            cards_revealed += 1\n",
    "    \n",
    "    return current_card, cards_revealed"
   ]
  },
  {
   "cell_type": "code",
   "execution_count": 96,
   "metadata": {},
   "outputs": [
    {
     "name": "stdout",
     "output_type": "stream",
     "text": [
      "There are 5 cards in total.\n",
      "Our starting point is [25] at position 1.\n",
      "Let's get to card [6].\n",
      "\n",
      "New card revealed: [20]\n",
      "New card revealed: [10]\n",
      "New card revealed: [5]\n",
      "\n",
      "Card is not in cards!\n"
     ]
    }
   ],
   "source": [
    "find_given_card([30, 25, 20, 10, 5], 6)"
   ]
  },
  {
   "cell_type": "code",
   "execution_count": 31,
   "metadata": {},
   "outputs": [],
   "source": [
    "def binary_search(lo, hi, condition):\n",
    "    while lo <= hi:\n",
    "        mid = (lo + hi) // 2\n",
    "        result = condition(mid)\n",
    "        if result == 'found':\n",
    "            return mid\n",
    "        elif result == 'left':\n",
    "            hi = mid - 1\n",
    "        else:\n",
    "            lo = mid + 1\n",
    "    return -1"
   ]
  },
  {
   "cell_type": "code",
   "execution_count": null,
   "metadata": {},
   "outputs": [],
   "source": [
    "def locate_card(cards, card):\n",
    "    \n",
    "    def condition(mid):\n",
    "        if cards[mid] == card:\n",
    "            if mid > 0 and cards[mid-1] == card:\n",
    "                return 'left'\n",
    "            else:\n",
    "                return 'found'\n",
    "        elif cards[mid] < card:\n",
    "            return 'left'\n",
    "        else:\n",
    "            return 'right'\n",
    "    \n",
    "    return binary_search(0, len(cards) - 1, condition)"
   ]
  }
 ],
 "metadata": {
  "kernelspec": {
   "display_name": ".venv",
   "language": "python",
   "name": "python3"
  },
  "language_info": {
   "codemirror_mode": {
    "name": "ipython",
    "version": 3
   },
   "file_extension": ".py",
   "mimetype": "text/x-python",
   "name": "python",
   "nbconvert_exporter": "python",
   "pygments_lexer": "ipython3",
   "version": "3.12.3"
  }
 },
 "nbformat": 4,
 "nbformat_minor": 2
}
