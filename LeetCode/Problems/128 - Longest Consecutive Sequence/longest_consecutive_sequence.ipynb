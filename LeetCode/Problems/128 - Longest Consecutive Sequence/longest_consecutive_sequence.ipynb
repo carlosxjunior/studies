{
 "cells": [
  {
   "cell_type": "markdown",
   "metadata": {},
   "source": [
    "### Source\n",
    "https://leetcode.com/problems/longest-consecutive-sequence/description/"
   ]
  },
  {
   "cell_type": "markdown",
   "metadata": {},
   "source": [
    "### Longest Consecutive Sequence"
   ]
  },
  {
   "cell_type": "markdown",
   "metadata": {},
   "source": [
    "> Given an unsorted array of integers nums, return the length of the longest consecutive elements sequence"
   ]
  },
  {
   "cell_type": "markdown",
   "metadata": {},
   "source": [
    "#### Solution 1\n",
    "This solution as written before I knew of the constraint the the algorithm should run in O(n) time and also before I had studied and understood a bit of the concepts about time complexity.\n",
    "\n",
    "We could call this the brute force solution."
   ]
  },
  {
   "cell_type": "code",
   "execution_count": null,
   "metadata": {},
   "outputs": [],
   "source": [
    "def longestConsecutive(nums):\n",
    "    \"\"\"\n",
    "    :type nums: List[int]\n",
    "    :rtype: int\n",
    "    \"\"\"\n",
    "    assert type(nums).__name__ == \"list\", f\"nums should be of type list, but got {type(nums)} instead\"\n",
    "    # assert 0 <= len(nums) <= 10^5, f\"nums length should be between 0 and 105, but got length {len(nums)} instead\"\n",
    "    # assert False not in [-10^9 <= number <= 10^9 for number in nums], f\"The elements in nums should vary from -109 to 109 only\"\n",
    "\n",
    "    sorted_list = list(set(nums))\n",
    "    sorted_list.sort()\n",
    "\n",
    "    list_consecutive_count = []\n",
    "    count = 0\n",
    "\n",
    "    for element in sorted_list:\n",
    "        current_element = element\n",
    "        if element == sorted_list[0]:\n",
    "            previous_element = element\n",
    "            continue\n",
    "        if count > 0:\n",
    "            if current_element == previous_element + 1:\n",
    "                count += 1\n",
    "                previous_element = element\n",
    "                continue\n",
    "            else:\n",
    "                list_consecutive_count.append(count)\n",
    "                count = 0\n",
    "                previous_element = element\n",
    "        elif count == 0:\n",
    "            if current_element == previous_element + 1:\n",
    "                count += 1\n",
    "                previous_element = element\n",
    "                continue\n",
    "            else:\n",
    "                previous_element = element\n",
    "\n",
    "    # Faltou dar um sort pra pegar o maior elemento\n",
    "    list_set_consecutive_count = list(set(list_consecutive_count))\n",
    "    list_set_consecutive_count.sort(reverse=True)\n",
    "    longest_consecutive_count = list_set_consecutive_count[0] + 1\n",
    "\n",
    "    return longest_consecutive_count"
   ]
  },
  {
   "cell_type": "markdown",
   "metadata": {},
   "source": [
    "Note that the sort function in a Python list has a time complexity of O(n.log n), so this solution is already invalid at line 11.\n",
    "\n",
    "Explanation of the sort() function in Python: https://www.geeksforgeeks.org/sort-in-python/"
   ]
  },
  {
   "cell_type": "markdown",
   "metadata": {},
   "source": [
    "### Rascunho"
   ]
  },
  {
   "cell_type": "code",
   "execution_count": null,
   "metadata": {},
   "outputs": [],
   "source": [
    "list_consecutive_count = []"
   ]
  },
  {
   "cell_type": "code",
   "execution_count": null,
   "metadata": {},
   "outputs": [],
   "source": [
    "count = 0\n",
    "\n",
    "for element in sorted_list:\n",
    "    current_element = element\n",
    "    print(\"\\n\")\n",
    "    print(f\"current_element = {current_element}\")\n",
    "    if element == sorted_list[0]:\n",
    "        previous_element = element\n",
    "        print(f\"previous_element = {previous_element}\")\n",
    "        continue\n",
    "    if count > 0:\n",
    "        print(\"count > 0\")\n",
    "        if current_element == previous_element + 1:\n",
    "            count += 1\n",
    "            print(\"Incrementei o count\")\n",
    "            previous_element = element\n",
    "            print(f\"previous_element = {previous_element}\")\n",
    "            continue\n",
    "        else:\n",
    "            list_consecutive_count.append(count)\n",
    "            print(f\"Apendei {count} na lista\")\n",
    "            count = 0\n",
    "            print(\"Zerei o count\")\n",
    "            previous_element = element\n",
    "            print(f\"previous_element = {previous_element}\")\n",
    "    elif count == 0:\n",
    "        print(\"count é 0\")\n",
    "        if current_element == previous_element + 1:\n",
    "            count += 1\n",
    "            print(\"Incrementei o count\")\n",
    "            previous_element = element\n",
    "            print(f\"previous_element = {previous_element}\")\n",
    "            continue\n",
    "        else:\n",
    "            previous_element = element\n",
    "            print(f\"previous_element = {previous_element}\")"
   ]
  },
  {
   "cell_type": "code",
   "execution_count": null,
   "metadata": {},
   "outputs": [],
   "source": [
    "list_consecutive_count"
   ]
  },
  {
   "cell_type": "markdown",
   "metadata": {},
   "source": [
    "#### Solution 2\n",
    "Now this solution was not completely written by me, I got it from the explanation of a colleague.\n",
    "\n",
    "This is the best possible solution in terms of the time complexity of the algorithm and it runs in O(n) time, as requested in the problem statement."
   ]
  },
  {
   "cell_type": "code",
   "execution_count": null,
   "metadata": {},
   "outputs": [],
   "source": [
    "def longestConsecutive(self, nums: List[int]) -> int:\n",
    "    set_nums = set(nums) \n",
    "    # O(n). Notice that the 'set' data structure in Python ... Also it does not allow for duplicate values.\n",
    "    max_count = 0 # O(1)\n",
    "    for num in set_nums: # O(n)\n",
    "        # Check if the current element is the start of a sequence. If not, there is no point checking it, so go to the next element.\n",
    "        if num - 1 in set_nums: # O(n) for Python sets.\n",
    "            continue\n",
    "        count = 1 # If n-1 is not in the set, it means the current element could be at the start of a sequence, so we set the count of this sequence as starting at 1.\n",
    "        while num + count in set_nums: # O(n)\n",
    "            count += 1\n",
    "\n",
    "        max_count = max(max_count, count) # O(n)\n",
    "\n",
    "    return max_count"
   ]
  },
  {
   "cell_type": "markdown",
   "metadata": {},
   "source": [
    "Now we have a solution of O(n) time complexity, as required in the problem statement.\n",
    "\n",
    "Note that the key here was to use a 'Hash Table', or, as we wrote the code in Python, a set."
   ]
  }
 ],
 "metadata": {
  "kernelspec": {
   "display_name": "Python 3",
   "language": "python",
   "name": "python3"
  },
  "language_info": {
   "codemirror_mode": {
    "name": "ipython",
    "version": 3
   },
   "file_extension": ".py",
   "mimetype": "text/x-python",
   "name": "python",
   "nbconvert_exporter": "python",
   "pygments_lexer": "ipython3",
   "version": "3.11.9"
  }
 },
 "nbformat": 4,
 "nbformat_minor": 2
}
