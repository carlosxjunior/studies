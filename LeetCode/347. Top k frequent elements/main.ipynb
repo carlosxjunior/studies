{
 "cells": [
  {
   "cell_type": "markdown",
   "metadata": {},
   "source": [
    "# 347. Top K frequent elements"
   ]
  },
  {
   "cell_type": "markdown",
   "metadata": {},
   "source": [
    "Reference: https://leetcode.com/problems/top-k-frequent-elements/description/"
   ]
  },
  {
   "cell_type": "markdown",
   "metadata": {},
   "source": [
    "Given an integer array nums and an integer k, return the k most frequent elements. You may return the answer in any order.\n",
    "\n",
    "\n",
    "### Example 1:\n",
    "\n",
    "- **Input: nums = [1,1,1,2,2,3], k = 2**\n",
    "- **Output: [1,2]**\n",
    "\n",
    "### Example 2:\n",
    "\n",
    "- **Input: nums = [1], k = 1**\n",
    "- **Output: [1]**\n",
    " \n",
    "### Constraints:\n",
    "\n",
    "- 1 <= nums.length <= 105\n",
    "- -104 <= nums[i] <= 104\n",
    "- k is in the range [1, the number of unique elements in the array].\n",
    "- It is guaranteed that the answer is unique.\n",
    "\n",
    "Follow up: Your algorithm's time complexity must be better than O(n log n), where n is the array's size."
   ]
  },
  {
   "cell_type": "code",
   "execution_count": 2,
   "metadata": {},
   "outputs": [],
   "source": [
    "def top_K_frequent(nums: list[int], k: int) -> list[int]:\n",
    "    return"
   ]
  },
  {
   "cell_type": "code",
   "execution_count": 3,
   "metadata": {},
   "outputs": [],
   "source": [
    "def define_tests():\n",
    "    tests = [\n",
    "        {\n",
    "            \"name\": \"test1\",\n",
    "            \"input\": {\n",
    "                \"nums\": [1, 1, 2, 2, 2, 5, 6, 7, 7, 7, 7, 10, 15, 15, 15, 15],\n",
    "                \"k\": 3\n",
    "            },\n",
    "            \"output\": [2, 7, 15]\n",
    "        },\n",
    "        {\n",
    "            \"name\": \"test2\",\n",
    "            \"input\": {\n",
    "                \"nums\": [-10, 10, 10, 10, -10, -10, -1, 5, 1, -5, 20, -20],\n",
    "                \"k\": 2\n",
    "            },\n",
    "            \"output\": [-10, 10]\n",
    "        },\n",
    "        {\n",
    "            \"name\": \"test3\",\n",
    "            \"input\": {\n",
    "                \"nums\": [1, 1, 1, 2, 3, 4, 4, 5, 6, 7, 8],\n",
    "                \"k\": 2\n",
    "            },\n",
    "            \"output\": [1, 4]\n",
    "        },\n",
    "        {\n",
    "            \"name\": \"test4\",\n",
    "            \"input\": {\n",
    "                \"nums\": [99],\n",
    "                \"k\": 1\n",
    "            },\n",
    "            \"output\": [99]\n",
    "        }\n",
    "    ]\n",
    "    return tests"
   ]
  },
  {
   "cell_type": "markdown",
   "metadata": {},
   "source": [
    "### First solution (desconsider time complexity if needed)"
   ]
  },
  {
   "cell_type": "code",
   "execution_count": 5,
   "metadata": {},
   "outputs": [],
   "source": [
    "def top_K_frequent(nums: list[int], k: int) -> list[int]:\n",
    "    \n",
    "    unique_elements = set(nums) # O(n)\n",
    "    count_dict = {element: nums.count(element) for element in unique_elements} # for: O (n); count: O(n); total: O(n.n) = O(n²)\n",
    "    count = list(count_dict.values()) # O(n)\n",
    "    count.sort(reverse=True) # O(n.log(n)), which ends up being the time complexity of the function\n",
    "    count_k = count[:k] # O(n)\n",
    "    top_k = [number for number, frequency in count_dict.items() if frequency in count_k]\n",
    "\n",
    "    return top_k"
   ]
  },
  {
   "cell_type": "code",
   "execution_count": 6,
   "metadata": {},
   "outputs": [
    {
     "name": "stdout",
     "output_type": "stream",
     "text": [
      "TEST PASSED: test1\n",
      "TEST PASSED: test2\n",
      "TEST PASSED: test3\n",
      "TEST PASSED: test4\n"
     ]
    }
   ],
   "source": [
    "tests = define_tests()\n",
    "\n",
    "for test in tests:\n",
    "    assert set(top_K_frequent(nums=test[\"input\"][\"nums\"], k=test[\"input\"][\"k\"])) == set(test[\"output\"]), f\"TEST FAILED: {test['name']}\"\n",
    "    print(f\"TEST PASSED: {test['name']}\")"
   ]
  },
  {
   "cell_type": "markdown",
   "metadata": {},
   "source": [
    "### Solution 2"
   ]
  },
  {
   "cell_type": "code",
   "execution_count": 1,
   "metadata": {},
   "outputs": [],
   "source": [
    "def top_K_frequent(nums: list[int], k: int) -> list[int]:\n",
    "\n",
    "    frequency_dict = {}\n",
    "        \n",
    "    for number in nums:\n",
    "        if number in frequency_dict:\n",
    "            frequency_dict[number] += 1\n",
    "        else: # O(1)\n",
    "            frequency_dict[number] = 1\n",
    "\n",
    "    sorted_list = sorted(frequency_dict)\n",
    "\n",
    "    return sorted_list[0:k]"
   ]
  },
  {
   "cell_type": "code",
   "execution_count": 2,
   "metadata": {},
   "outputs": [],
   "source": [
    "nums = [4,1,-1,2,-1,2,3]"
   ]
  },
  {
   "cell_type": "code",
   "execution_count": 3,
   "metadata": {},
   "outputs": [],
   "source": [
    "frequency_dict = {}\n",
    "        \n",
    "for number in nums:\n",
    "    if number in frequency_dict:\n",
    "        frequency_dict[number] += 1\n",
    "    else: # O(1)\n",
    "        frequency_dict[number] = 1\n",
    "\n",
    "sorted_list = sorted(frequency_dict)"
   ]
  },
  {
   "cell_type": "code",
   "execution_count": 4,
   "metadata": {},
   "outputs": [
    {
     "data": {
      "text/plain": [
       "{4: 1, 1: 1, -1: 2, 2: 2, 3: 1}"
      ]
     },
     "execution_count": 4,
     "metadata": {},
     "output_type": "execute_result"
    }
   ],
   "source": [
    "frequency_dict"
   ]
  },
  {
   "cell_type": "code",
   "execution_count": null,
   "metadata": {},
   "outputs": [],
   "source": []
  }
 ],
 "metadata": {
  "kernelspec": {
   "display_name": ".venv",
   "language": "python",
   "name": "python3"
  },
  "language_info": {
   "codemirror_mode": {
    "name": "ipython",
    "version": 3
   },
   "file_extension": ".py",
   "mimetype": "text/x-python",
   "name": "python",
   "nbconvert_exporter": "python",
   "pygments_lexer": "ipython3",
   "version": "3.11.9"
  }
 },
 "nbformat": 4,
 "nbformat_minor": 2
}
